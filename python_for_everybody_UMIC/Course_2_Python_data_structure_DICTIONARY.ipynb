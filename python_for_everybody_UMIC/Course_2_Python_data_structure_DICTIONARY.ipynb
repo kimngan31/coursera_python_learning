{
 "cells": [
  {
   "cell_type": "markdown",
   "metadata": {},
   "source": [
    "DICTIONARIES"
   ]
  },
  {
   "cell_type": "code",
   "execution_count": 1,
   "metadata": {},
   "outputs": [],
   "source": [
    "#list is a linear collection of values that stay in order\n",
    "#dictionary is a bag of values - each has its own label - and does not have a fixed order\n",
    "#similar to each other in a lot of ways - list has position/order and dictionary has key"
   ]
  },
  {
   "cell_type": "code",
   "execution_count": 11,
   "metadata": {},
   "outputs": [],
   "source": [
    "#blank dictionary can be initiated in two ways - similar to list\n",
    "purse = dict()\n",
    "purse = {}          ## curly bracket is for dictionary"
   ]
  },
  {
   "cell_type": "code",
   "execution_count": 12,
   "metadata": {},
   "outputs": [],
   "source": [
    "purse = {'hello':1,'b':123,'a':46}      ##initiating non-blank dictionary"
   ]
  },
  {
   "cell_type": "code",
   "execution_count": 13,
   "metadata": {},
   "outputs": [
    {
     "data": {
      "text/plain": [
       "123"
      ]
     },
     "execution_count": 13,
     "metadata": {},
     "output_type": "execute_result"
    }
   ],
   "source": [
    "purse['b'] ##retrieve the value from a dictionary by calling the key"
   ]
  },
  {
   "cell_type": "code",
   "execution_count": 14,
   "metadata": {},
   "outputs": [
    {
     "name": "stdout",
     "output_type": "stream",
     "text": [
      "{'hello': 1, 'b': 123, 'a': 46, 'c': 424}\n"
     ]
    }
   ],
   "source": [
    "purse['c'] = 424             ##we can also do this to add new pair of key and value to a dictionary\n",
    "print(purse)\n",
    "\n",
    "## --> this is different from list. we cannot do this with list"
   ]
  },
  {
   "cell_type": "code",
   "execution_count": 15,
   "metadata": {},
   "outputs": [
    {
     "name": "stdout",
     "output_type": "stream",
     "text": [
      "{'hello': 1, 'b': 123, 'a': 3, 'c': 424}\n"
     ]
    }
   ],
   "source": [
    "purse['a']  = 3           ##same move will overwrite the previous value associated with the key - similar with list \n",
    "print(purse)"
   ]
  },
  {
   "cell_type": "code",
   "execution_count": 16,
   "metadata": {},
   "outputs": [
    {
     "name": "stdout",
     "output_type": "stream",
     "text": [
      "{'hello': 1, 'b': 123, 'a': 3, 'c': 424, 1: 'abc'}\n"
     ]
    }
   ],
   "source": [
    "purse[1] = 'abc'\n",
    "print(purse)"
   ]
  },
  {
   "cell_type": "code",
   "execution_count": 8,
   "metadata": {},
   "outputs": [
    {
     "name": "stdout",
     "output_type": "stream",
     "text": [
      "{'hello': 1, 'b': 123, 'a': 3, 'c': 424}\n"
     ]
    }
   ],
   "source": [
    "del purse[1] ##dictionary does not have the remove method like list. We have to use del to remove an element from dictionary\n",
    "print(purse)"
   ]
  },
  {
   "cell_type": "markdown",
   "metadata": {},
   "source": [
    "USING DICTIONARY TO COUNT - CREATE HISTOGRAM"
   ]
  },
  {
   "cell_type": "code",
   "execution_count": 12,
   "metadata": {},
   "outputs": [
    {
     "name": "stdout",
     "output_type": "stream",
     "text": [
      "{'Kim': 2, 'Ngan': 1, 'Bella': 4, 'Robert': 2}\n"
     ]
    }
   ],
   "source": [
    "## Using dictionary to count - create histogram\n",
    "\n",
    "counts = dict()\n",
    "names = ['Kim','Ngan','Bella','Kim','Robert','Bella','Bella','Robert','Bella']\n",
    "for name in names: \n",
    "    if name in counts:\n",
    "        counts[name] = counts[name] + 1\n",
    "    else: \n",
    "        counts[name] = 1\n",
    "print(counts)"
   ]
  },
  {
   "cell_type": "code",
   "execution_count": 50,
   "metadata": {},
   "outputs": [
    {
     "name": "stdout",
     "output_type": "stream",
     "text": [
      "{'Kim': 2, 'Ngan': 1, 'Bella': 4, 'Robert': 2}\n"
     ]
    }
   ],
   "source": [
    "##a quicker way to do this is with the \"get\" method of dictionary\n",
    "counts = dict()\n",
    "names = ['Kim','Ngan','Bella','Kim','Robert','Bella','Bella','Robert','Bella']\n",
    "for name in names:\n",
    "    counts[name] = counts.get(name,0) + 1  \n",
    "print(counts)"
   ]
  },
  {
   "cell_type": "code",
   "execution_count": 55,
   "metadata": {},
   "outputs": [
    {
     "name": "stdout",
     "output_type": "stream",
     "text": [
      "Robert Bella\n"
     ]
    }
   ],
   "source": [
    "print(max(counts),min(counts))            ##min and max works with the keys rather than values"
   ]
  },
  {
   "cell_type": "code",
   "execution_count": 22,
   "metadata": {},
   "outputs": [
    {
     "data": {
      "text/plain": [
       "2"
      ]
     },
     "execution_count": 22,
     "metadata": {},
     "output_type": "execute_result"
    }
   ],
   "source": [
    "## TO UNDERSTAND THE \"get\" METHOD\n",
    "counts={'Bella':2}     # If the key already exists in the dictionary \n",
    "counts.get('Bella',0)  # Return the corresponding value "
   ]
  },
  {
   "cell_type": "code",
   "execution_count": 23,
   "metadata": {},
   "outputs": [
    {
     "data": {
      "text/plain": [
       "0"
      ]
     },
     "execution_count": 23,
     "metadata": {},
     "output_type": "execute_result"
    }
   ],
   "source": [
    "counts={'Kim':2}     # If the key does not exist in the dictionary \n",
    "counts.get('Bella',0)  # Return the default  value "
   ]
  },
  {
   "cell_type": "markdown",
   "metadata": {},
   "source": [
    "DICTIONARY AND FILES"
   ]
  },
  {
   "cell_type": "code",
   "execution_count": 20,
   "metadata": {},
   "outputs": [
    {
     "data": {
      "text/plain": [
       "{'hello': 1, 'b': 123, 'a': 3, 'c': 424, 1: 'abc'}"
      ]
     },
     "execution_count": 20,
     "metadata": {},
     "output_type": "execute_result"
    }
   ],
   "source": [
    "#for loops will run through the keys - not the values - in the dictionaries\n",
    "purse"
   ]
  },
  {
   "cell_type": "code",
   "execution_count": 19,
   "metadata": {},
   "outputs": [
    {
     "name": "stdout",
     "output_type": "stream",
     "text": [
      "hello 1\n",
      "b 123\n",
      "a 3\n",
      "c 424\n",
      "1 abc\n"
     ]
    }
   ],
   "source": [
    "for key in purse:\n",
    "    print(key, purse[key])"
   ]
  },
  {
   "cell_type": "code",
   "execution_count": 39,
   "metadata": {},
   "outputs": [
    {
     "data": {
      "text/plain": [
       "dict_keys(['hello', 'b', 'a', 'c', 1])"
      ]
     },
     "execution_count": 39,
     "metadata": {},
     "output_type": "execute_result"
    }
   ],
   "source": [
    "#we can retrieve the lists of keys and values from dictionaries\n",
    "purse.keys()"
   ]
  },
  {
   "cell_type": "code",
   "execution_count": 40,
   "metadata": {},
   "outputs": [
    {
     "data": {
      "text/plain": [
       "dict_values([1, 123, 3, 424, 'abc'])"
      ]
     },
     "execution_count": 40,
     "metadata": {},
     "output_type": "execute_result"
    }
   ],
   "source": [
    "purse.values()"
   ]
  },
  {
   "cell_type": "code",
   "execution_count": 37,
   "metadata": {},
   "outputs": [
    {
     "data": {
      "text/plain": [
       "dict_items([('hello', 1), ('b', 123), ('a', 3), ('c', 424), (1, 'abc')])"
      ]
     },
     "execution_count": 37,
     "metadata": {},
     "output_type": "execute_result"
    }
   ],
   "source": [
    "purse.items()  ##this will produce a list containing tuples - will learn about later - not a dictionary"
   ]
  },
  {
   "cell_type": "code",
   "execution_count": 32,
   "metadata": {},
   "outputs": [
    {
     "data": {
      "text/plain": [
       "dict_keys"
      ]
     },
     "execution_count": 32,
     "metadata": {},
     "output_type": "execute_result"
    }
   ],
   "source": [
    "#they have data types = dict_keys, dict_values, dict_items\n",
    "type(purse.keys())"
   ]
  },
  {
   "cell_type": "code",
   "execution_count": 33,
   "metadata": {},
   "outputs": [
    {
     "data": {
      "text/plain": [
       "['hello', 'b', 'a', 'c', 1]"
      ]
     },
     "execution_count": 33,
     "metadata": {},
     "output_type": "execute_result"
    }
   ],
   "source": [
    "#we can convert them to list\n",
    "list(purse.keys())"
   ]
  },
  {
   "cell_type": "code",
   "execution_count": 36,
   "metadata": {},
   "outputs": [
    {
     "name": "stdout",
     "output_type": "stream",
     "text": [
      "dict_keys(['hello', 'b', 'a', 'c', 1])\n"
     ]
    }
   ],
   "source": [
    "#or print out\n",
    "print(purse.keys())"
   ]
  },
  {
   "cell_type": "code",
   "execution_count": 43,
   "metadata": {},
   "outputs": [
    {
     "name": "stdout",
     "output_type": "stream",
     "text": [
      "hello 1\n",
      "b 123\n",
      "a 3\n",
      "c 424\n",
      "1 abc\n"
     ]
    }
   ],
   "source": [
    "#we can also use for loop for 2 variables with the list of tuples (.items)\n",
    "for key, value in purse.items():\n",
    "    print(key,value)"
   ]
  },
  {
   "cell_type": "markdown",
   "metadata": {},
   "source": [
    "ASSIGNMENT"
   ]
  },
  {
   "cell_type": "markdown",
   "metadata": {},
   "source": [
    "9.4 Write a program to read through the mbox-short.txt and figure out who has the sent the greatest number of mail messages. The program looks for 'From ' lines and takes the second word of those lines as the person who sent the mail. The program creates a Python dictionary that maps the sender's mail address to a count of the number of times they appear in the file. After the dictionary is produced, the program reads through the dictionary using a maximum loop to find the most prolific committer."
   ]
  },
  {
   "cell_type": "code",
   "execution_count": null,
   "metadata": {},
   "outputs": [],
   "source": [
    "fhandle = open('mbox-short.txt')\n",
    "\n",
    "counts = dict()\n",
    "\n",
    "for line in fhandle:\n",
    "    if line.startswith('From ') is True:\n",
    "        words = line.split()\n",
    "        email = words[1].strip()\n",
    "        counts[email] = counts.get(email,0) + 1\n",
    "\n",
    "big_key = None\n",
    "big_value = None\n",
    "\n",
    "for key, value in counts.items():\n",
    "    if big_value is None or value > big_value:\n",
    "        big_key = key\n",
    "        big_value = value\n",
    "\n",
    "print(big_key, big_value)\n",
    "    "
   ]
  },
  {
   "cell_type": "code",
   "execution_count": null,
   "metadata": {},
   "outputs": [],
   "source": []
  },
  {
   "cell_type": "code",
   "execution_count": null,
   "metadata": {},
   "outputs": [],
   "source": []
  },
  {
   "cell_type": "code",
   "execution_count": null,
   "metadata": {},
   "outputs": [],
   "source": []
  },
  {
   "cell_type": "code",
   "execution_count": null,
   "metadata": {},
   "outputs": [],
   "source": []
  },
  {
   "cell_type": "code",
   "execution_count": null,
   "metadata": {},
   "outputs": [],
   "source": []
  },
  {
   "cell_type": "code",
   "execution_count": null,
   "metadata": {},
   "outputs": [],
   "source": []
  },
  {
   "cell_type": "code",
   "execution_count": null,
   "metadata": {},
   "outputs": [],
   "source": []
  },
  {
   "cell_type": "code",
   "execution_count": null,
   "metadata": {},
   "outputs": [],
   "source": []
  }
 ],
 "metadata": {
  "kernelspec": {
   "display_name": "Python 3",
   "language": "python",
   "name": "python3"
  },
  "language_info": {
   "codemirror_mode": {
    "name": "ipython",
    "version": 3
   },
   "file_extension": ".py",
   "mimetype": "text/x-python",
   "name": "python",
   "nbconvert_exporter": "python",
   "pygments_lexer": "ipython3",
   "version": "3.7.0"
  }
 },
 "nbformat": 4,
 "nbformat_minor": 2
}
