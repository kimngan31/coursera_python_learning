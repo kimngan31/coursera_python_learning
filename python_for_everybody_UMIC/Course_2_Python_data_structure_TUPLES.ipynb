{
 "cells": [
  {
   "cell_type": "markdown",
   "metadata": {},
   "source": [
    "TUPLES"
   ]
  },
  {
   "cell_type": "code",
   "execution_count": 15,
   "metadata": {},
   "outputs": [
    {
     "data": {
      "text/plain": [
       "0"
      ]
     },
     "execution_count": 15,
     "metadata": {},
     "output_type": "execute_result"
    }
   ],
   "source": [
    "# Tuple is very similar to list - but is immutable - which is like strings \n",
    "# We cannot reassign a value within tuple, cannot sort, append, reverse \n",
    "# >>>> works like a fixed list - more efficient for storage\n",
    "tup = (1,2,3)\n",
    "type(tup)\n",
    "tup.index(1)"
   ]
  },
  {
   "cell_type": "code",
   "execution_count": 9,
   "metadata": {},
   "outputs": [
    {
     "name": "stdout",
     "output_type": "stream",
     "text": [
      "<class 'tuple'> <class 'tuple'> <class 'tuple'> <class 'str'>\n"
     ]
    }
   ],
   "source": [
    "#creating tuple: \n",
    "a = tuple()           # blank tuple\n",
    "a = ()                # blank tuple - option 2\n",
    "\n",
    "b = tuple('1')        # tuple with one element\n",
    "c = ('1',)            # tuple with one element - option 2 \n",
    "\n",
    "d = ('1')             # without the comma, it will create a string\n",
    "\n",
    "print(type(a), type(b), type(c), type(d))"
   ]
  },
  {
   "cell_type": "code",
   "execution_count": 20,
   "metadata": {},
   "outputs": [],
   "source": [
    "#can use tuple to assign variable simultaneously \n",
    "(a,b,c) = (1,2,3)"
   ]
  },
  {
   "cell_type": "code",
   "execution_count": 44,
   "metadata": {},
   "outputs": [],
   "source": [
    "#also work without the parentheses\n",
    "a,b,c = 1,2,3"
   ]
  },
  {
   "cell_type": "code",
   "execution_count": 21,
   "metadata": {},
   "outputs": [
    {
     "data": {
      "text/plain": [
       "True"
      ]
     },
     "execution_count": 21,
     "metadata": {},
     "output_type": "execute_result"
    }
   ],
   "source": [
    "#tuples are comparable\n",
    "(1,2,3) < (4,5,6)"
   ]
  },
  {
   "cell_type": "code",
   "execution_count": 29,
   "metadata": {},
   "outputs": [
    {
     "data": {
      "text/plain": [
       "False"
      ]
     },
     "execution_count": 29,
     "metadata": {},
     "output_type": "execute_result"
    }
   ],
   "source": [
    "(3,2,56) > (3,4,1) #it only looks at the first element that differ, never look at the subsequent ones"
   ]
  },
  {
   "cell_type": "markdown",
   "metadata": {},
   "source": [
    "SORTING "
   ]
  },
  {
   "cell_type": "code",
   "execution_count": 32,
   "metadata": {},
   "outputs": [
    {
     "data": {
      "text/plain": [
       "dict_items([('hello', 1), ('b', 123), ('a', 46)])"
      ]
     },
     "execution_count": 32,
     "metadata": {},
     "output_type": "execute_result"
    }
   ],
   "source": [
    "#Previously we use .items() to get a list of tuples from dictionary:\n",
    "purse = {'hello':1,'b':123,'a':46} \n",
    "purse.items()"
   ]
  },
  {
   "cell_type": "code",
   "execution_count": 31,
   "metadata": {},
   "outputs": [
    {
     "data": {
      "text/plain": [
       "[('a', 46), ('b', 123), ('hello', 1)]"
      ]
     },
     "execution_count": 31,
     "metadata": {},
     "output_type": "execute_result"
    }
   ],
   "source": [
    "#we can use sorted() to sort by the key            ##cannot use sort() method in this case\n",
    "sorted(purse.items())"
   ]
  },
  {
   "cell_type": "code",
   "execution_count": 39,
   "metadata": {},
   "outputs": [
    {
     "data": {
      "text/plain": [
       "[(123, 'b'), (46, 'a'), (1, 'hello')]"
      ]
     },
     "execution_count": 39,
     "metadata": {},
     "output_type": "execute_result"
    }
   ],
   "source": [
    "#if want to sort by values instead of key - we will need to create a new list with swapping key and value\n",
    "purse = {'hello':1,'b':123,'a':46} \n",
    "\n",
    "new_purse = list()\n",
    "for key, value in purse.items(): \n",
    "    new_purse.append((value,key)) #append tuples with value first and key second\n",
    "\n",
    "sorted(new_purse, reverse = True) #now can sort the list of tuple"
   ]
  },
  {
   "cell_type": "code",
   "execution_count": 40,
   "metadata": {},
   "outputs": [
    {
     "data": {
      "text/plain": [
       "[(1, 'hello'), (123, 'b'), (46, 'a')]"
      ]
     },
     "execution_count": 40,
     "metadata": {},
     "output_type": "execute_result"
    }
   ],
   "source": [
    "#can make it even shorter with list comprehension - create a dynamic list that contains the tuples we want (reversed)\n",
    "[(v,k) for k,v in purse.items()] "
   ]
  },
  {
   "cell_type": "code",
   "execution_count": 42,
   "metadata": {},
   "outputs": [
    {
     "data": {
      "text/plain": [
       "[(123, 'b'), (46, 'a'), (1, 'hello')]"
      ]
     },
     "execution_count": 42,
     "metadata": {},
     "output_type": "execute_result"
    }
   ],
   "source": [
    "sorted ([(v,k) for k,v in purse.items()] , reverse = True) #and sort them"
   ]
  },
  {
   "cell_type": "code",
   "execution_count": 43,
   "metadata": {},
   "outputs": [],
   "source": []
  },
  {
   "cell_type": "markdown",
   "metadata": {},
   "source": [
    "ASSIGNMENT"
   ]
  },
  {
   "cell_type": "markdown",
   "metadata": {},
   "source": [
    "10.2 Write a program to read through the mbox-short.txt and figure out the distribution by hour of the day for each of the messages. You can pull the hour out from the 'From ' line by finding the time and then splitting the string a second time using a colon.\n",
    "From stephen.marquard@uct.ac.za Sat Jan  5 09:14:16 2008\n",
    "Once you have accumulated the counts for each hour, print out the counts, sorted by hour as shown below."
   ]
  },
  {
   "cell_type": "code",
   "execution_count": 57,
   "metadata": {},
   "outputs": [],
   "source": [
    "fhandle = open('mbox-short.txt')\n",
    "\n",
    "#get a histogram of counts for each hour in a dictionary\n",
    "hour_histo = dict()\n",
    "for line in fhandle:\n",
    "    if line.startswith('From ') is not True:\n",
    "        continue\n",
    "    words = line.split()\n",
    "    timestamp = words[5]\n",
    "    timestamp_2 = timestamp.split(':')\n",
    "    hour = timestamp_2[0]\n",
    "    hour_histo[hour] = hour_histo.get(hour,0) + 1\n",
    "\n",
    "#sort the histogram based on the counts and print\n",
    "sorted_histo = sorted ( hour_histo.items() )\n",
    "\n",
    "for k,v in sorted_histo:\n",
    "    print(k,v)\n"
   ]
  },
  {
   "cell_type": "code",
   "execution_count": null,
   "metadata": {},
   "outputs": [],
   "source": []
  },
  {
   "cell_type": "code",
   "execution_count": null,
   "metadata": {},
   "outputs": [],
   "source": []
  }
 ],
 "metadata": {
  "kernelspec": {
   "display_name": "Python 3",
   "language": "python",
   "name": "python3"
  },
  "language_info": {
   "codemirror_mode": {
    "name": "ipython",
    "version": 3
   },
   "file_extension": ".py",
   "mimetype": "text/x-python",
   "name": "python",
   "nbconvert_exporter": "python",
   "pygments_lexer": "ipython3",
   "version": "3.7.0"
  }
 },
 "nbformat": 4,
 "nbformat_minor": 2
}
